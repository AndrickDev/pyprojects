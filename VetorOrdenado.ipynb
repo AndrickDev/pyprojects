{
  "nbformat": 4,
  "nbformat_minor": 0,
  "metadata": {
    "colab": {
      "provenance": [],
      "authorship_tag": "ABX9TyOOVJI3L05nZ/pTjqkccWn2",
      "include_colab_link": true
    },
    "kernelspec": {
      "name": "python3",
      "display_name": "Python 3"
    },
    "language_info": {
      "name": "python"
    }
  },
  "cells": [
    {
      "cell_type": "markdown",
      "metadata": {
        "id": "view-in-github",
        "colab_type": "text"
      },
      "source": [
        "<a href=\"https://colab.research.google.com/github/AndrickDev/pyprojects/blob/main/VetorOrdenado.ipynb\" target=\"_parent\"><img src=\"https://colab.research.google.com/assets/colab-badge.svg\" alt=\"Open In Colab\"/></a>"
      ]
    },
    {
      "cell_type": "code",
      "execution_count": null,
      "metadata": {
        "id": "HGKHsabhACbj"
      },
      "outputs": [],
      "source": [
        "import numpy as np"
      ]
    },
    {
      "cell_type": "code",
      "source": [
        "import numpy as np\n",
        "\n",
        "class VetorOrdenado():\n",
        "  def __init__(self, tamanhoVetor):\n",
        "    self.tamanhoVetor = tamanhoVetor\n",
        "    self.ultimaPosicao = -1\n",
        "    self.valores = np.empty(self.tamanhoVetor, dtype=int)\n",
        "\n",
        "  def imprimir(self):\n",
        "    if self.ultimaPosicao == -1:\n",
        "      print('O vetor está vazio')\n",
        "    else:\n",
        "      for i in range(self.ultimaPosicao + 1):\n",
        "        print(f'Posição {i} valor: {self.valores[i]}')\n",
        "\n",
        "  def insere(self, valor):\n",
        "    if self.ultimaPosicao == self.tamanhoVetor - 1:\n",
        "      print('Capacidade máxima atingida')\n",
        "      return\n",
        "\n",
        "    posicao = 0\n",
        "    for i in range(self.ultimaPosicao + 1):\n",
        "      posicao = i\n",
        "      if self.valores[i] > valor:\n",
        "        break\n",
        "      if i == self.ultimaPosicao:\n",
        "        posicao = i + 1\n",
        "\n",
        "    x = self.ultimaPosicao\n",
        "    while x >= posicao:\n",
        "      self.valores[x + 1] = self.valores[x]\n",
        "      x = x - 1\n",
        "\n",
        "    self.valores[posicao] = valor\n",
        "    self.ultimaPosicao += 1\n",
        "\n",
        "vetorOrdenado = VetorOrdenado(5)\n",
        "vetorOrdenado.insere(10)\n",
        "vetorOrdenado.insere(2)\n",
        "vetorOrdenado.insere(-4)\n",
        "vetorOrdenado.insere(7)\n",
        "vetorOrdenado.insere(1500)\n",
        "\n",
        "vetorOrdenado.imprimir()\n"
      ],
      "metadata": {
        "id": "G86B5_jlFNav",
        "colab": {
          "base_uri": "https://localhost:8080/"
        },
        "outputId": "473b3d23-363a-47dc-e759-623b0325867e"
      },
      "execution_count": null,
      "outputs": [
        {
          "output_type": "stream",
          "name": "stdout",
          "text": [
            "Posição 0 valor: -4\n",
            "Posição 1 valor: 2\n",
            "Posição 2 valor: 7\n",
            "Posição 3 valor: 10\n",
            "Posição 4 valor: 1500\n"
          ]
        }
      ]
    }
  ]
}