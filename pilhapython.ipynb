{
  "nbformat": 4,
  "nbformat_minor": 0,
  "metadata": {
    "colab": {
      "provenance": [],
      "authorship_tag": "ABX9TyPTwLY1dMHXk0Nmmx6xWGOa",
      "include_colab_link": true
    },
    "kernelspec": {
      "name": "python3",
      "display_name": "Python 3"
    },
    "language_info": {
      "name": "python"
    }
  },
  "cells": [
    {
      "cell_type": "markdown",
      "metadata": {
        "id": "view-in-github",
        "colab_type": "text"
      },
      "source": [
        "<a href=\"https://colab.research.google.com/github/AndrickDev/pyprojects/blob/main/pilhapython.ipynb\" target=\"_parent\"><img src=\"https://colab.research.google.com/assets/colab-badge.svg\" alt=\"Open In Colab\"/></a>"
      ]
    },
    {
      "cell_type": "code",
      "execution_count": 10,
      "metadata": {
        "id": "ak3n6yKUAkci"
      },
      "outputs": [],
      "source": [
        "import numpy as np"
      ]
    },
    {
      "cell_type": "code",
      "source": [
        "class Pilha:\n",
        "\n",
        "    def __init__(self, capacidade):\n",
        "        self.__capacidade = capacidade\n",
        "        self.__topo = -1\n",
        "        self.__valores = [None] * self.__capacidade\n",
        "\n",
        "    def __pilha_cheia(self):\n",
        "        return self.__topo == self.__capacidade - 1\n",
        "\n",
        "    def __pilha_vazia(self):\n",
        "        return self.__topo == -1\n",
        "\n",
        "    def empilhar(self, valor):\n",
        "        if self.__pilha_cheia():\n",
        "            raise OverflowError('A pilha está cheia')\n",
        "        else:\n",
        "            self.__topo += 1\n",
        "            self.__valores[self.__topo] = valor\n",
        "\n",
        "    def ver_topo(self):\n",
        "        if not self.__pilha_vazia():\n",
        "            return self.__valores[self.__topo]\n",
        "        else:\n",
        "            return -1\n",
        "\n",
        "    def desempilhar(self):\n",
        "        if self.__pilha_vazia():\n",
        "            raise IndexError('A pilha está vazia')\n",
        "        else:\n",
        "            valor = self.__valores[self.__topo]\n",
        "            self.__topo -= 1\n",
        "            return valor\n",
        "\n",
        "# Criar uma instância da classe Pilha com uma capacidade desejada\n",
        "pilha = Pilha(10)\n",
        "\n",
        "# Agora você pode usar os métodos da instância pilha\n",
        "pilha.empilhar(10)\n",
        "pilha.empilhar(8)\n",
        "pilha.empilhar(9)\n"
      ],
      "metadata": {
        "id": "AijYhrSUBDGR"
      },
      "execution_count": 17,
      "outputs": []
    },
    {
      "cell_type": "code",
      "source": [
        "#ver o topo\n",
        "pilha.ver_topo()"
      ],
      "metadata": {
        "colab": {
          "base_uri": "https://localhost:8080/"
        },
        "id": "3FbT0TIgEbC3",
        "outputId": "12913d3d-8d12-4a26-a81c-917d6a54e215"
      },
      "execution_count": 18,
      "outputs": [
        {
          "output_type": "execute_result",
          "data": {
            "text/plain": [
              "9"
            ]
          },
          "metadata": {},
          "execution_count": 18
        }
      ]
    },
    {
      "cell_type": "code",
      "source": [
        "pilha.desempilhar()"
      ],
      "metadata": {
        "colab": {
          "base_uri": "https://localhost:8080/"
        },
        "id": "7-wKX1FSFArI",
        "outputId": "9115cb36-370e-4f87-be7c-8e99ed53a11c"
      },
      "execution_count": 19,
      "outputs": [
        {
          "output_type": "execute_result",
          "data": {
            "text/plain": [
              "9"
            ]
          },
          "metadata": {},
          "execution_count": 19
        }
      ]
    },
    {
      "cell_type": "code",
      "source": [
        "pilha.ver_topo()"
      ],
      "metadata": {
        "colab": {
          "base_uri": "https://localhost:8080/"
        },
        "id": "HdqRZGWiFCfE",
        "outputId": "c99751a2-0c12-43bf-a51f-82e576c51dd4"
      },
      "execution_count": 20,
      "outputs": [
        {
          "output_type": "execute_result",
          "data": {
            "text/plain": [
              "8"
            ]
          },
          "metadata": {},
          "execution_count": 20
        }
      ]
    }
  ]
}